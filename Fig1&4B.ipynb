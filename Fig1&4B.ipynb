{
 "cells": [
  {
   "cell_type": "markdown",
   "metadata": {},
   "source": [
    "# Notebook to generate figure 1 and 4\n",
    "experimental parameters:\n",
    "- dataset : September 24, 2020 with and without potassium\n",
    "- exposure time: 75 ms\n",
    "- time between images : 12 ms\n",
    "- number of images in each reference wing: 100"
   ]
  },
  {
   "cell_type": "code",
   "execution_count": 1,
   "metadata": {},
   "outputs": [],
   "source": [
    "import pandas as pd\n",
    "import numpy as np\n",
    "import matplotlib.pyplot as plt\n",
    "from scipy.optimize import curve_fit\n",
    "from uncertainties import ufloat, unumpy\n",
    "import scipy.stats\n",
    "import os\n",
    "import math\n",
    "from numpy import random\n",
    "from scipy.stats import poisson"
   ]
  },
  {
   "cell_type": "markdown",
   "metadata": {},
   "source": [
    "## Digitize Sodium data "
   ]
  },
  {
   "cell_type": "code",
   "execution_count": 2,
   "metadata": {},
   "outputs": [],
   "source": [
    "#Github_folder =R\"C:\\Users\\Rohit Prasad Bhatt\"\n",
    "#Github_folder =R\"C:\\Users\\Jan\"\n",
    "Github_folder =R\"C:\\Users\\Lilo\"\n",
    "#Github_folder= \"/Users/fredjendrzejewski\"\n",
    "PATH_raw_wK = os.path.join(Github_folder, \"Documents/GitHub/StocDyn_fig_data/data/raw/Sep24_Scan_0001_use_K=True.csv\")\n",
    "PATH_raw_woK = os.path.join(Github_folder, \"Documents/GitHub/StocDyn_fig_data/data/raw/Sep24_Scan_0001_use_K=False.csv\")\n",
    "PATH_fig = os.path.join(Github_folder, \"Documents/GitHub/StocDyn_fig_data/figures/figure1_4\")"
   ]
  },
  {
   "cell_type": "markdown",
   "metadata": {},
   "source": [
    "#### Reshaping the raw data properly"
   ]
  },
  {
   "cell_type": "code",
   "execution_count": 3,
   "metadata": {},
   "outputs": [],
   "source": [
    "def analyze(file_path, Cam_EXPOT):\n",
    "    Counts=pd.read_csv(file_path,  encoding='UTF-8')\n",
    "    Split_Counts=np.array_split(Counts['Counts'],len(Counts['Run_number'].unique()))\n",
    "    Split_Counts_array=np.array(Split_Counts)\n",
    "    Nruns, Nimg = Split_Counts_array.shape\n",
    "    atom_images = np.size(Split_Counts_array[1])\n",
    "    time_between_atom_images = 12e-3\n",
    "    time = np.arange(atom_images)*(time_between_atom_images + Cam_EXPOT)\n",
    "    return time, Nruns, Nimg, Split_Counts_array;"
   ]
  },
  {
   "cell_type": "code",
   "execution_count": 4,
   "metadata": {},
   "outputs": [],
   "source": [
    "time_raw_wK, Nruns_wK, Nimg_wK, Split_Counts_array_raw_wK = analyze(PATH_raw_wK, Cam_EXPOT=75e-3)\n",
    "time_raw_woK, Nruns_woK, Nimg_woK, Split_Counts_array_raw_woK = analyze(PATH_raw_woK, Cam_EXPOT=75e-3)"
   ]
  },
  {
   "cell_type": "markdown",
   "metadata": {},
   "source": [
    "#### Plotting the histogram to extract calibration factor\n",
    "we plot all the data in a histogram, to extract the calibration factor (the distance between consecutive peaks) which is needed for the digitization of the data"
   ]
  },
  {
   "cell_type": "code",
   "execution_count": 5,
   "metadata": {},
   "outputs": [],
   "source": [
    "allcounts_offsetremoved_wK=(Split_Counts_array_raw_wK[:,100:300])+0 # make quick deepcopy\n",
    "offset_wK=np.mean(Split_Counts_array_raw_wK[:,2:89], axis=1) # calculate offset from first reference wing\n",
    "allcounts_offsetremoved_wK=allcounts_offsetremoved_wK-offset_wK[:,None]\n",
    "allcounts_offsetremoved_wK=allcounts_offsetremoved_wK.flatten()\n",
    "\n",
    "allcounts_offsetremoved_woK=(Split_Counts_array_raw_woK[:,100:300])+0 # make quick deepcopy\n",
    "offset_woK=np.mean(Split_Counts_array_raw_woK[:,2:89], axis=1) # calculate offset from first reference wing\n",
    "allcounts_offsetremoved_woK=allcounts_offsetremoved_woK-offset_woK[:,None]\n",
    "allcounts_offsetremoved_woK=allcounts_offsetremoved_woK.flatten()\n",
    "\n",
    "allcounts_offsetremoved=np.append(allcounts_offsetremoved_woK,allcounts_offsetremoved_wK)"
   ]
  },
  {
   "cell_type": "code",
   "execution_count": 6,
   "metadata": {},
   "outputs": [],
   "source": [
    "bins=np.linspace(-1e4,2e4, 200)\n",
    "y, bins = np.histogram(allcounts_offsetremoved, bins=bins)\n",
    "binscenters = np.array([0.5 * (bins[i] + bins[i+1]) for i in range(len(bins)-1)])"
   ]
  },
  {
   "cell_type": "code",
   "execution_count": 7,
   "metadata": {},
   "outputs": [],
   "source": [
    "def gauss(x, mu, sigma, A):\n",
    "    return A*np.exp(-(x-mu)**2/(2*sigma**2))"
   ]
  },
  {
   "cell_type": "code",
   "execution_count": 8,
   "metadata": {},
   "outputs": [],
   "source": [
    "def Multimodal(x,mu1,sigma1,A1,mu2,sigma2,A2,mu3,sigma3,A3):\n",
    "    return gauss(x,mu1,sigma1,A1)+gauss(x,mu2,sigma2,A2)+gauss(x,mu3,sigma3,A3)"
   ]
  },
  {
   "cell_type": "code",
   "execution_count": 9,
   "metadata": {},
   "outputs": [],
   "source": [
    "expected=(0,1e3,5000,3e3,3e3,5000,6e3,4e3,1500)\n",
    "params,cov=curve_fit(Multimodal,binscenters,y,expected,absolute_sigma=True)#, bounds=([-1e3,0.1e3,150,6e3,0.1e3,5,2e4,0.1e3,5], [1e3,3e3,22000,12e3,3e3,5000,3e4,3e3,7000]))\n",
    "sigma=np.sqrt(np.diag(cov))"
   ]
  },
  {
   "cell_type": "code",
   "execution_count": 10,
   "metadata": {},
   "outputs": [
    {
     "name": "stdout",
     "output_type": "stream",
     "text": [
      "Mean dist between consecutive peaks 3099.93\n"
     ]
    }
   ],
   "source": [
    "calibration=params[::3]\n",
    "step_sizes=np.diff(calibration)\n",
    "calibration_error=params[1::3]\n",
    "mu_step = np.mean(step_sizes)\n",
    "print('Mean dist between consecutive peaks {:.2f}'.format(mu_step))"
   ]
  },
  {
   "cell_type": "code",
   "execution_count": 11,
   "metadata": {},
   "outputs": [
    {
     "data": {
      "image/png": "[encoded data removed]",
      "text/plain": [
       "<Figure size 324x360 with 1 Axes>"
      ]
     },
     "metadata": {
      "needs_background": "light"
     },
     "output_type": "display_data"
    }
   ],
   "source": [
    "fig2 = plt.figure(figsize=(4.5,5)) \n",
    "ax2 = fig2.add_subplot(1, 1, 1)\n",
    "ax2.plot((bins-params[0]),Multimodal(bins,*params),color='black',lw=1,label='model');\n",
    "ax2.hist((allcounts_offsetremoved-params[0]),color='orange', bins=bins, label='data')\n",
    "for ii in range(6):\n",
    "    ax2.axvline(ii*mu_step, color='black', ls='-', lw=0.5)\n",
    "#ax2.legend()\n",
    "ax2.set_xlim(-5000,15000)\n",
    "ax2.set_xlabel(\"Counts\")\n",
    "ax2.set_ylabel(\"Occurances\")\n",
    "fig2.tight_layout()\n",
    "fig2.subplots_adjust(top=0.9);"
   ]
  },
  {
   "cell_type": "markdown",
   "metadata": {},
   "source": [
    "### Information for generating digitized data\n",
    "We use __generate_digitized_CSV.ipynb__ for generating the digitized data. The neccesary information is given below."
   ]
  },
  {
   "cell_type": "raw",
   "metadata": {},
   "source": [
    "scan = R\"\\Sep24_Scan_0001\n",
    "ParameterList = [scanparameter(\"use_K=True\", 1, '.-b'),\n",
    "                 scanparameter(\"use_K=False\", 1, '.-r')]"
   ]
  },
  {
   "cell_type": "raw",
   "metadata": {},
   "source": [
    "time_between_atom_images = 12e-3\n",
    "Cam_EXPOT = 75e-3\n",
    "one_atom_signal= 3099.93 #level for one signal = mu_step\n",
    "number_of_images_without_atoms = 100"
   ]
  },
  {
   "cell_type": "markdown",
   "metadata": {},
   "source": [
    "### Loading the digitized sodium data"
   ]
  },
  {
   "cell_type": "code",
   "execution_count": null,
   "metadata": {},
   "outputs": [],
   "source": [
    "PATH_woK = os.path.join(Github_folder, \"Documents/GitHub/sopa_rsi/analysis_data/Analyse_Jump_Statistics/Scan_0001_of_20-09-24_use_K=False_digitized_on_2020-12-20.csv\")\n",
    "PATH_wK = os.path.join(Github_folder, \"Documents/GitHub/sopa_rsi/analysis_data/Analyse_Jump_Statistics/Scan_0001_of_20-09-24_use_K=True_digitized_on_2020-12-20.csv\")"
   ]
  },
  {
   "cell_type": "markdown",
   "metadata": {},
   "source": [
    "## Load Potassium data and select only runs where we have sodium and potassium data analysed\n"
   ]
  },
  {
   "cell_type": "code",
   "execution_count": null,
   "metadata": {},
   "outputs": [],
   "source": [
    "PATH_K = os.path.join(Github_folder, \"Documents/GitHub/sopa_rsi/analysis_data/Time_Traces_Na_in_K/Sept24_K_Scan_0001_use_K=True.csv\")"
   ]
  },
  {
   "cell_type": "code",
   "execution_count": null,
   "metadata": {},
   "outputs": [],
   "source": [
    "Counts_w_K=pd.read_csv(PATH_raw_wK,  encoding='UTF-8')\n",
    "Counts_w_K_dig=pd.read_csv(PATH_wK,  encoding='UTF-8')\n",
    "Counts_K=pd.read_csv(PATH_K,  encoding='UTF-8')\n",
    "\n",
    "req_runs=Counts_K.Run_number.unique()\n",
    "\n",
    "subset_Counts_w_K=Counts_w_K.loc[Counts_w_K['Run_number'].isin(req_runs)]\n",
    "subset_Counts_w_K_dig=Counts_w_K_dig.loc[Counts_w_K_dig['Run_number'].isin(req_runs)]"
   ]
  },
  {
   "cell_type": "markdown",
   "metadata": {},
   "source": [
    "Split and delete two \"wrong\" data point"
   ]
  },
  {
   "cell_type": "code",
   "execution_count": null,
   "metadata": {},
   "outputs": [],
   "source": [
    "Split_subset_Counts_w_K=np.array_split(subset_Counts_w_K['Counts'],len(subset_Counts_w_K['Run_number'].unique()))\n",
    "Split_subset_Counts_w_K_dig=np.array_split(subset_Counts_w_K_dig['Counts'],len(subset_Counts_w_K_dig['Run_number'].unique()))\n",
    "Split_Counts_K=np.array_split(Counts_K['Counts'],len(Counts_K['Run_number'].unique()))\n",
    "\n",
    "Split_subset_Counts_w_K=np.array(Split_subset_Counts_w_K)\n",
    "Split_subset_Counts_w_K_dig=np.array(Split_subset_Counts_w_K_dig)\n",
    "Split_Counts_K=np.array(Split_Counts_K)\n",
    "\n",
    "Split_subset_Counts_w_K=np.delete(Split_subset_Counts_w_K, 100,1)\n",
    "Split_subset_Counts_w_K_dig=np.delete(Split_subset_Counts_w_K_dig, 100,1)\n",
    "Split_Counts_K=np.delete(Split_Counts_K, 100,1)\n",
    "Split_subset_Counts_w_K=np.delete(Split_subset_Counts_w_K, 0,1)\n",
    "Split_subset_Counts_w_K_dig=np.delete(Split_subset_Counts_w_K_dig, 0,1)\n",
    "Split_Counts_K=np.delete(Split_Counts_K, 0,1)"
   ]
  },
  {
   "cell_type": "code",
   "execution_count": null,
   "metadata": {},
   "outputs": [],
   "source": [
    "atom_images_K = np.size(Split_subset_Counts_w_K[19])\n",
    "time_between_atom_images = 12e-3\n",
    "Cam_EXPOT_K = 75e-3\n",
    "time = np.arange(atom_images_K)*(time_between_atom_images + Cam_EXPOT_K)"
   ]
  },
  {
   "cell_type": "markdown",
   "metadata": {},
   "source": [
    "### Calibration factor for potassium\n",
    "We extract calibration factor for converting camera counts into atom numbers for potassium from script Fig5:"
   ]
  },
  {
   "cell_type": "code",
   "execution_count": null,
   "metadata": {},
   "outputs": [],
   "source": [
    "C_K_100 = 5.61e2  # calibration factor for 100ms integration time\n",
    "C_K_75  = C_K_100*0.75 # Here we are using 75ms integration time"
   ]
  },
  {
   "cell_type": "markdown",
   "metadata": {},
   "source": [
    "## Ploting the figures"
   ]
  },
  {
   "cell_type": "code",
   "execution_count": null,
   "metadata": {},
   "outputs": [],
   "source": [
    "n = 19 # We are choosing the 19th run \n",
    "y1 = Split_subset_Counts_w_K[n]\n",
    "y_dig = Split_subset_Counts_w_K_dig[n]\n",
    "y2 = Split_Counts_K[n]"
   ]
  },
  {
   "cell_type": "code",
   "execution_count": null,
   "metadata": {},
   "outputs": [],
   "source": [
    "fig = plt.figure(figsize=(7,5)) \n",
    "ax1 = fig.add_subplot(1, 1, 1)\n",
    "ax=ax1.twinx()\n",
    "ax1.plot(y_dig, '-', color= 'orange', alpha=1, zorder=10, linewidth=4)\n",
    "ax.plot((y2)/C_K_75, '.-', color='royalblue', alpha=1, zorder=1)\n",
    "ax.set_xlabel(\"Image index\")\n",
    "ax1.set_ylabel(\"Na Atom number\")\n",
    "ax.set_ylabel(\"K Atom number\")\n",
    "ax1.set_xlabel(\"Image index\")\n",
    "ax.set_xlim(0,400)\n",
    "ax1.set_ylim(-0.5,3)\n",
    "ax.set_ylim(-3.6e3,21e3)\n",
    "fig.tight_layout()\n",
    "fig.subplots_adjust(top=0.9);\n",
    "my_file = 'NaK_Time_Trace_V2.pdf'\n",
    "fig.savefig(os.path.join(PATH_fig, my_file)) "
   ]
  },
  {
   "cell_type": "code",
   "execution_count": null,
   "metadata": {},
   "outputs": [],
   "source": [
    "fig = plt.figure(figsize=(7,5)) \n",
    "ax1 = fig.add_subplot(1, 1, 1)\n",
    "ax=ax1.twinx()\n",
    "ax.plot((y2), '.-', color='royalblue')#royalblue\n",
    "ax1.plot((y1-np.mean(y1[0:49])), '.-', color= 'orange', alpha=0.4)\n",
    "ax1.plot(y_dig*mu_step, '-', color= 'orange', markersize=3, alpha=1.0, lw=3)\n",
    "ax1.set_xlabel(\"Image index\")\n",
    "ax.set_ylabel(\"Camera counts K\")\n",
    "ax1.set_ylabel(\"Camera counts Na\")\n",
    "ax.set_xlim(0,400)\n",
    "ax1.set_ylim(-2.2e3,1.0e4)\n",
    "ax.set_ylim(-2e6,0.9e7)\n",
    "fig.tight_layout()\n",
    "fig.subplots_adjust(top=0.9);\n",
    "my_file = 'NaK_Time_Trace_V4.pdf'\n",
    "fig.savefig(os.path.join(PATH_fig, my_file)) "
   ]
  },
  {
   "cell_type": "code",
   "execution_count": null,
   "metadata": {},
   "outputs": [],
   "source": []
  }
 ],
 "metadata": {
  "kernelspec": {
   "display_name": "Python 3",
   "language": "python",
   "name": "python3"
  },
  "language_info": {
   "codemirror_mode": {
    "name": "ipython",
    "version": 3
   },
   "file_extension": ".py",
   "mimetype": "text/x-python",
   "name": "python",
   "nbconvert_exporter": "python",
   "pygments_lexer": "ipython3",
   "version": "3.7.6"
  }
 },
 "nbformat": 4,
 "nbformat_minor": 4
}
