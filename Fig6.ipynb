{
 "cells": [
  {
   "cell_type": "markdown",
   "metadata": {},
   "source": [
    "# Notebook to generate figure 6\n",
    "experimental parameters:\n",
    "- dataset : October 7th, 2020 \n",
    "- exposure time: 200 ms\n",
    "- time between images : 12 ms\n",
    "- number of images in each reference wing: 100"
   ]
  },
  {
   "cell_type": "code",
   "execution_count": 3,
   "metadata": {},
   "outputs": [],
   "source": [
    "import pandas as pd\n",
    "import numpy as np\n",
    "import matplotlib.pyplot as plt\n",
    "from scipy.optimize import curve_fit\n",
    "from uncertainties import ufloat, unumpy\n",
    "import scipy.stats\n",
    "import os\n",
    "import math"
   ]
  },
  {
   "cell_type": "markdown",
   "metadata": {},
   "source": [
    "## Load dataset and define analysis function\n"
   ]
  },
  {
   "cell_type": "code",
   "execution_count": 4,
   "metadata": {},
   "outputs": [],
   "source": [
    "#Github_folder =R\"C:\\Users\\Rohit Prasad Bhatt\"\n",
    "#Github_folder =R\"C:\\Users\\Jan\"\n",
    "Github_folder =R\"C:\\Users\\Lilo\"\n",
    "#Github_folder= \"/Users/fredjendrzejewski\"\n",
    "PATH_raw = os.path.join(Github_folder, \"Documents/GitHub/StocDyn_fig_data/data/Oct07_Scan_0000_Cam_EXPOT=0.2.csv\")\n",
    "PATH_fig = os.path.join(Github_folder, \"Documents/GitHub/StocDyn_fig_data/figures\")"
   ]
  },
  {
   "cell_type": "code",
   "execution_count": 5,
   "metadata": {},
   "outputs": [],
   "source": [
    "def analyze(file_path, Cam_EXPOT):\n",
    "    Counts=pd.read_csv(file_path,  encoding='UTF-8')\n",
    "    Split_Counts=np.array_split(Counts['Counts'],len(Counts['Run_number'].unique()))\n",
    "    Split_Counts_array=np.array(Split_Counts)\n",
    "    Nruns, Nimg = Split_Counts_array.shape\n",
    "    atom_images = np.size(Split_Counts_array[1])\n",
    "    time_between_atom_images = 12e-3\n",
    "    time = np.arange(atom_images)*(time_between_atom_images + Cam_EXPOT)\n",
    "    return time, Nruns, Nimg, Split_Counts_array;"
   ]
  },
  {
   "cell_type": "code",
   "execution_count": 6,
   "metadata": {},
   "outputs": [],
   "source": [
    "time_raw, Nruns, Nimg, Split_Counts_array_raw = analyze(PATH_raw, Cam_EXPOT=200e-3)"
   ]
  },
  {
   "cell_type": "markdown",
   "metadata": {},
   "source": [
    "## Plotting the histogram to extract calibration factor\n",
    "we plot all the data in a histogram, to extract the calibration factor (the distance between consecutive peaks) which is needed for the digitization of the data"
   ]
  },
  {
   "cell_type": "code",
   "execution_count": 7,
   "metadata": {},
   "outputs": [],
   "source": [
    "allcounts_offsetremoved=(Split_Counts_array_raw[:,100:300])+0 # make quick deepcopy\n",
    "offset=np.mean(Split_Counts_array_raw[:,2:89], axis=1) # calculate offset from first reference wing\n",
    "allcounts_offsetremoved=allcounts_offsetremoved-offset[:,None]\n",
    "allcounts_offsetremoved=allcounts_offsetremoved.flatten()"
   ]
  },
  {
   "cell_type": "code",
   "execution_count": 8,
   "metadata": {},
   "outputs": [],
   "source": [
    "bins=np.linspace(-1e4, 7e4, 200)\n",
    "y, bins = np.histogram(allcounts_offsetremoved, bins=bins)\n",
    "binscenters = np.array([0.5 * (bins[i] + bins[i+1]) for i in range(len(bins)-1)])"
   ]
  },
  {
   "cell_type": "markdown",
   "metadata": {},
   "source": [
    "Define gaussian functions which we use to fit to indivdual atom peaks"
   ]
  },
  {
   "cell_type": "code",
   "execution_count": 9,
   "metadata": {},
   "outputs": [],
   "source": [
    "def gauss(x, mu, sigma, A):\n",
    "    return A*np.exp(-(x-mu)**2/(2*sigma**2))"
   ]
  },
  {
   "cell_type": "code",
   "execution_count": 10,
   "metadata": {},
   "outputs": [],
   "source": [
    "def Multimodal(x,mu1,sigma1,A1,mu2,sigma2,A2,mu3,sigma3,A3,mu4,sigma4,A4,mu5,sigma5,A5,mu6,sigma6,A6):\n",
    "    return gauss(x,mu1,sigma1,A1)+gauss(x,mu2,sigma2,A2)+gauss(x,mu3,sigma3,A3)+gauss(x,mu4,sigma4,A4)+gauss(x,mu5,sigma5,A5)+gauss(x,mu6,sigma6,A6)"
   ]
  },
  {
   "cell_type": "code",
   "execution_count": 11,
   "metadata": {},
   "outputs": [],
   "source": [
    "expected=(0,1e3,1800,10e3,1e3,400,2.2e4,1e3,600,3.5e4,6e3,130,4.5e4,3e3,80,6e4,3e3,10)\n",
    "params,cov=curve_fit(Multimodal,binscenters,y,expected,absolute_sigma=True, bounds=([-1e3,0.1e3,150,6e3,0.1e3,5,2e4,0.1e3,5,3e4,0.1e3,10,4e4,0.1e3,5,5e4,0.1e3,1], [1e3,3e3,22000,12e3,3e3,5000,3e4,3e3,7000,4e4,3e4,200,5e4,2e4,100,6.5e4,1e4,30]))\n",
    "sigma=np.sqrt(np.diag(cov))"
   ]
  },
  {
   "cell_type": "code",
   "execution_count": 12,
   "metadata": {},
   "outputs": [
    {
     "name": "stdout",
     "output_type": "stream",
     "text": [
      "Mean dist between consecutive peaks 11530.41\n",
      "400.1613080693069\n"
     ]
    }
   ],
   "source": [
    "calibration=params[::3]\n",
    "step_sizes=np.diff(calibration)\n",
    "calibration_error=params[1::3]\n",
    "mu_step = np.mean(step_sizes)\n",
    "print('Mean dist between consecutive peaks {:.2f}'.format(mu_step))\n",
    "print(np.std(step_sizes))"
   ]
  },
  {
   "cell_type": "code",
   "execution_count": 14,
   "metadata": {},
   "outputs": [
    {
     "data": {
      "image/png": "[encoded data removed]",
      "text/plain": [
       "<Figure size 324x360 with 1 Axes>"
      ]
     },
     "metadata": {
      "needs_background": "light"
     },
     "output_type": "display_data"
    }
   ],
   "source": [
    "fig2 = plt.figure(figsize=(4.5,5)) \n",
    "ax2 = fig2.add_subplot(1, 1, 1)\n",
    "ax2.plot((bins-params[0]),Multimodal(bins,*params),color='C1',lw=3,label='model');\n",
    "ax2.hist((allcounts_offsetremoved-params[0]),color='orange', bins=bins, label='data',alpha = 0.55)\n",
    "for ii in range(6):\n",
    "    ax2.axvline(ii*mu_step, color='black', ls='-', lw=0.5)\n",
    "ax2.set_xlabel(\"Counts\")\n",
    "ax2.set_ylabel(\"Occurances\")\n",
    "fig2.tight_layout()\n",
    "fig2.subplots_adjust(top=0.9);\n",
    "my_file = 'Figure6_A.pdf'\n",
    "fig2.savefig(os.path.join(PATH_fig, my_file)) "
   ]
  },
  {
   "cell_type": "markdown",
   "metadata": {},
   "source": [
    "## Information for generating digitized data\n",
    "We use __generate_digitized_CSV.ipynb__ for generating the digitized data. The neccesary information is given below."
   ]
  },
  {
   "cell_type": "raw",
   "metadata": {},
   "source": [
    "scan = R\"\\Oct07_Scan_0000\"\n",
    "ParameterList = [scanparameter(\"Cam_EXPOT=0.2\", 1, '.-r')]"
   ]
  },
  {
   "cell_type": "raw",
   "metadata": {},
   "source": [
    "time_between_atom_images = 12e-3\n",
    "Cam_EXPOT = 200e-3\n",
    "one_atom_signal= 11513.2 #calibration (we get this value from the calibration fit below)\n",
    "number_of_images_without_atoms = 100"
   ]
  },
  {
   "cell_type": "markdown",
   "metadata": {},
   "source": [
    "## Calibrate Data and add digitized data\n",
    "Extract conversion factor from camera counts to atom number using the extracted peak positions and performing a linear fit."
   ]
  },
  {
   "cell_type": "code",
   "execution_count": 15,
   "metadata": {},
   "outputs": [],
   "source": [
    "PATH_dig = os.path.join(Github_folder, \"Documents/GitHub/StocDyn_fig_data/data/Oct07_Scan_0000_Cam_EXPOT=0.2_digitized.csv\")"
   ]
  },
  {
   "cell_type": "code",
   "execution_count": 16,
   "metadata": {},
   "outputs": [],
   "source": [
    "time_dig, Nruns, Nimg, Split_Counts_array_dig = analyze(PATH_dig, Cam_EXPOT=200e-3)"
   ]
  },
  {
   "cell_type": "code",
   "execution_count": 17,
   "metadata": {},
   "outputs": [],
   "source": [
    "def lin(x,m,b):\n",
    "    return m*x+b;"
   ]
  },
  {
   "cell_type": "code",
   "execution_count": 18,
   "metadata": {},
   "outputs": [],
   "source": [
    "x=np.linspace(0,5,6)\n",
    "params_lin,cov_lin=curve_fit(lin,x, calibration,sigma=calibration_error, absolute_sigma=True)"
   ]
  },
  {
   "cell_type": "code",
   "execution_count": 19,
   "metadata": {},
   "outputs": [
    {
     "data": {
      "image/png": "[encoded data removed]",
      "text/plain": [
       "<Figure size 360x288 with 1 Axes>"
      ]
     },
     "metadata": {
      "needs_background": "light"
     },
     "output_type": "display_data"
    }
   ],
   "source": [
    "x = np.linspace(-1,6,10)\n",
    "fig2 = plt.figure(figsize=(5,4)) \n",
    "ax2 = fig2.add_subplot(1, 1, 1)\n",
    "ax2.errorbar(x=np.linspace(0,5,6),y=calibration,yerr=calibration_error,color='orange',fmt='o',markersize=8, linewidth=10, elinewidth=1.5,capsize=4, capthick=2);\n",
    "ax2.plot(x,lin(x,*params_lin),color='g',lw=2,label='model');\n",
    "ax2.grid()\n",
    "ax2.set_xlabel(\"Atoms\")\n",
    "ax2.set_ylabel(\"Counts\")\n",
    "ax2.set_xlim(-0.5,5.5)\n",
    "fig2.tight_layout()\n",
    "fig2.subplots_adjust(top=0.9);"
   ]
  },
  {
   "cell_type": "markdown",
   "metadata": {},
   "source": [
    "## Extract Values for detection noise and calibration"
   ]
  },
  {
   "cell_type": "code",
   "execution_count": 20,
   "metadata": {},
   "outputs": [],
   "source": [
    "delta_bg_val = params[1]\n",
    "delta_bg_err = np.sqrt(np.diag(cov)[1])\n",
    "delta_bg = ufloat(delta_bg_val, delta_bg_err)\n",
    "\n",
    "cal_val = params_lin[0]\n",
    "cal_err = np.sqrt(np.diag(cov_lin)[0])\n",
    "cal = ufloat(cal_val, cal_err)\n",
    "\n",
    "atomic_res = delta_bg/cal"
   ]
  },
  {
   "cell_type": "code",
   "execution_count": 21,
   "metadata": {},
   "outputs": [
    {
     "name": "stdout",
     "output_type": "stream",
     "text": [
      "Background Noise: (2.2012+/-0.0022)e+03\n",
      "Calibration C: (1.151320+/-0.052403)e+04\n",
      "Atomic resolution: (1.912+/-0.087)e-01\n"
     ]
    }
   ],
   "source": [
    "print('Background Noise: {:.2ue}' .format(delta_bg))\n",
    "print('Calibration C: {:.5ue}' .format(cal))\n",
    "print('Atomic resolution: {:.2ue}' .format(atomic_res))\n"
   ]
  },
  {
   "cell_type": "markdown",
   "metadata": {},
   "source": [
    "## Plot the calibrated time trace together with the digitized data"
   ]
  },
  {
   "cell_type": "code",
   "execution_count": 23,
   "metadata": {},
   "outputs": [
    {
     "data": {
      "image/png": "[encoded data removed]",
      "text/plain": [
       "<Figure size 324x360 with 1 Axes>"
      ]
     },
     "metadata": {
      "needs_background": "light"
     },
     "output_type": "display_data"
    }
   ],
   "source": [
    "fig = plt.figure(figsize=(4.5,5)) \n",
    "ax = fig.add_subplot(1, 1, 1)\n",
    "y = Split_Counts_array_raw[Nruns-3]\n",
    "y_dig = Split_Counts_array_dig[Nruns-3]\n",
    "offset=np.mean(y[0:49])\n",
    "ax.plot((y-offset)/params_lin[0], '.-', color='orange',alpha=0.3)\n",
    "ax.plot(y_dig, '-', color='orange', lw=3, alpha=1)\n",
    "ax.set_xlabel(\"Time [s]\")\n",
    "for ii in range(5):\n",
    "    ax.axhline(ii, color='black', ls='-',lw=0.5)\n",
    "ax.set_ylabel(\"Atom number\")\n",
    "ax.set_xlim(0,400)\n",
    "fig.tight_layout()\n",
    "fig.subplots_adjust(top=0.9);\n",
    "my_file = 'Figure6_B.pdf'\n",
    "fig.savefig(os.path.join(PATH_fig, my_file)) "
   ]
  },
  {
   "cell_type": "code",
   "execution_count": null,
   "metadata": {},
   "outputs": [],
   "source": []
  }
 ],
 "metadata": {
  "kernelspec": {
   "display_name": "Python 3",
   "language": "python",
   "name": "python3"
  },
  "language_info": {
   "codemirror_mode": {
    "name": "ipython",
    "version": 3
   },
   "file_extension": ".py",
   "mimetype": "text/x-python",
   "name": "python",
   "nbconvert_exporter": "python",
   "pygments_lexer": "ipython3",
   "version": "3.7.6"
  }
 },
 "nbformat": 4,
 "nbformat_minor": 4
}
