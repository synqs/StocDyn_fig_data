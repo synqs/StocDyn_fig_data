{
 "cells": [
  {
   "cell_type": "markdown",
   "metadata": {},
   "source": [
    "# Notebook to generate figure 1A of supplementary information\n",
    "In this notebook we model the atom dynamics by a statistical process whose macroscopic observables are the loading rate $\\Gamma_{\\text{load}}$ and loss rate $\\Gamma_{\\text{loss}}$. For short enough time steps $dt$ the loading of a single atom is described by a Bernoulli trial $\\mathcal{B}[1,p_{\\text{load}}=\\Gamma_{\\text{load}} \\ dt]$. The loss of single atom is described by a binomial process $\\mathcal{B}[\\tilde{N}_{\\text{at}}(t-\\ dt),p_{\\text{loss}}=\\Gamma_{\\text{loss}} \\ dt]$. \n",
    "The change of atom number at time $t$ is then given by $\\Delta \\tilde{N}(t) = \\mathcal{B}[1,p_{\\text{load}}] - \\mathcal{B}[\\tilde{N}_{\\text{at}}(t-\\ dt),p_{\\text{loss}}]$. In the experiment the finite imaging time $\\tau$ leads to an observed signal, that is the sum of the atom dynamics during this time. For simulation we divide the imaging time into a number of time steps $N_{\\text{bins}}= \\frac{\\tau}{dt}$ on which we simulate the atom dynamics.\n",
    "\n",
    "For the simulation we need the following paramters:\n",
    "\n",
    "\n",
    "#### Experimental parameters\n",
    "- imaging time $\\tau$, total collection efficiency $\\eta$, and the running time of the experiment $\\text{real_time}$\n",
    "\n",
    "#### Atom dynamics parameters\n",
    "- photon scattering rate $\\gamma_{\\text{ph}}$, atom loading and loss rates $\\Gamma_{\\text{load}}$ and $\\Gamma_{\\text{loss}}$\n",
    "\n",
    "#### Simulation paramters\n",
    "- number of time traces simulated $N_{\\text{traces}}$, number of possible atom events during exposure $N_{\\text{bins}}$"
   ]
  },
  {
   "cell_type": "code",
   "execution_count": null,
   "metadata": {},
   "outputs": [],
   "source": [
    "import numpy as np\n",
    "import matplotlib.pyplot as plt\n",
    "from scipy.optimize import curve_fit\n",
    "import os\n",
    "import pandas as pd"
   ]
  },
  {
   "cell_type": "code",
   "execution_count": null,
   "metadata": {},
   "outputs": [],
   "source": [
    "rng = np.random.default_rng()"
   ]
  },
  {
   "cell_type": "code",
   "execution_count": null,
   "metadata": {},
   "outputs": [],
   "source": [
    "PATH_fig = os.path.join(\"figures/\")"
   ]
  },
  {
   "cell_type": "code",
   "execution_count": null,
   "metadata": {},
   "outputs": [],
   "source": [
    "# Experimental paramters\n",
    "tau = 1500*1e-3 #imaging time [s] \n",
    "eta = 0.0002 #total photon collection and conversion efficiency \n",
    "real_time = 30 #time in s of time trace\n",
    "\n",
    "# Atom dynamic parameters\n",
    "gamma_ph = 28*10**6 #photon scattering rate [photons/atom/s]\n",
    "Gamma_load = 16.54 #loading rate [atoms/s] \n",
    "Gamma_loss = 0.78 #loss rate [atoms/s]  \n",
    "\n",
    "# Simulation parameters\n",
    "N_bins = 100 #number of possible atom events during exposure time\n",
    "N_traces = 1 # number of time traces to generate"
   ]
  },
  {
   "cell_type": "code",
   "execution_count": null,
   "metadata": {},
   "outputs": [],
   "source": [
    "dt = tau/N_bins #resulting time step of atom dynamics\n",
    "\n",
    "p_load = Gamma_load*dt #resulting loading probability\n",
    "p_loss = Gamma_loss*dt #resulting single atom loss probability\n",
    "\n",
    "N_images = np.int(real_time/tau) #resulting number of images taken during \"experiment\"\n",
    "N_tsteps = N_images*N_bins; #resulting number of time steps"
   ]
  },
  {
   "cell_type": "code",
   "execution_count": null,
   "metadata": {},
   "outputs": [],
   "source": [
    "print('loading rate: ', Gamma_load)\n",
    "print('loading probability: ', p_load)\n",
    "print('single atom loss probability: ', p_loss)"
   ]
  },
  {
   "cell_type": "markdown",
   "metadata": {},
   "source": [
    "## Simulate the atom dynamics\n",
    "produce $N_{\\text{traces}}$  timetraces"
   ]
  },
  {
   "cell_type": "code",
   "execution_count": null,
   "metadata": {},
   "outputs": [],
   "source": [
    "atom_time_traces = np.zeros((N_tsteps,N_traces), dtype=int)\n",
    "p_load = np.full(N_traces,p_load)\n",
    "p_loss = np.full(N_traces, p_loss)\n",
    "for i in range(N_tsteps):\n",
    "    n_load=rng.binomial(1, p=p_load)\n",
    "    n_loss=rng.binomial(atom_time_traces[i-1],p_loss)\n",
    "    atom_time_traces[i] = atom_time_traces[i-1]+n_load-n_loss;"
   ]
  },
  {
   "cell_type": "markdown",
   "metadata": {},
   "source": [
    "## Simulate camera counts\n",
    "To simulate camera counts we have to sum $N_{\\text{bins}}$ points from $\\text{atom_time_traces}$. This can be done by reshaping the 2D array to a 3D array and then summing along axis 1."
   ]
  },
  {
   "cell_type": "code",
   "execution_count": null,
   "metadata": {},
   "outputs": [],
   "source": [
    "camera_counts = atom_time_traces\n",
    "camera_counts = eta*gamma_ph*dt*camera_counts"
   ]
  },
  {
   "cell_type": "markdown",
   "metadata": {},
   "source": [
    "## Compare true vs observed timetraces\n",
    "to compare the true time traces with the observed ones we have to rescale the camera count arrays to the same length"
   ]
  },
  {
   "cell_type": "code",
   "execution_count": null,
   "metadata": {},
   "outputs": [],
   "source": [
    "rescaled_bins = 4*N_bins\n",
    "rescaled_camera_counts = (1/rescaled_bins)*camera_counts.reshape(-1,rescaled_bins,atom_time_traces.shape[-1]).sum(axis=1)"
   ]
  },
  {
   "cell_type": "code",
   "execution_count": null,
   "metadata": {},
   "outputs": [],
   "source": [
    "f, ax1 = plt.subplots(1,1,figsize=(6,3),constrained_layout = True)\n",
    "ax1.plot(camera_counts[:,0],'-',color='C0', alpha=1.0,label='$ \\\\tilde{N}_{ph}$');\n",
    "ax1.plot(np.arange(N_tsteps+1)[rescaled_bins::rescaled_bins],rescaled_camera_counts[:,0],'.',color='Orange', linewidth=2,alpha=0.009);\n",
    "ax1.vlines(x=np.arange(N_tsteps+1)[::rescaled_bins],ymin=[0,*0*rescaled_camera_counts[:,0]],ymax=3e3,linestyles='dashed',color='k')\n",
    "ax1.hlines(y=rescaled_camera_counts[:,0],xmin=np.arange(N_tsteps)[::rescaled_bins],xmax=np.arange(N_tsteps+1)[rescaled_bins::rescaled_bins],color='C9',linewidth=4,zorder=0,label='$N_c \\cdot dt/\\\\tau$')\n",
    "ax1.set_ylabel('Counts')\n",
    "ax1.set_xlabel('Time')\n",
    "ax1.xaxis.set_ticks([])\n",
    "ax1.yaxis.set_ticks([])\n",
    "ax1.legend();\n",
    "my_file = 'Supplementary_Figure1_A.pdf'\n",
    "f.savefig(os.path.join(PATH_fig, my_file)) "
   ]
  },
  {
   "cell_type": "code",
   "execution_count": null,
   "metadata": {},
   "outputs": [],
   "source": []
  }
 ],
 "metadata": {
  "kernelspec": {
   "display_name": "Python 3",
   "language": "python",
   "name": "python3"
  },
  "language_info": {
   "codemirror_mode": {
    "name": "ipython",
    "version": 3
   },
   "file_extension": ".py",
   "mimetype": "text/x-python",
   "name": "python",
   "nbconvert_exporter": "python",
   "pygments_lexer": "ipython3",
   "version": "3.7.6"
  },
  "toc": {
   "base_numbering": 1,
   "nav_menu": {},
   "number_sections": true,
   "sideBar": true,
   "skip_h1_title": false,
   "title_cell": "Table of Contents",
   "title_sidebar": "Contents",
   "toc_cell": false,
   "toc_position": {},
   "toc_section_display": true,
   "toc_window_display": true
  }
 },
 "nbformat": 4,
 "nbformat_minor": 5
}
