{
 "cells": [
  {
   "cell_type": "markdown",
   "metadata": {},
   "source": [
    "# Notebook to generate figure 7\n",
    "experimental parameters:\n",
    "- dataset : September 24, 2020 with and without potassium\n",
    "- exposure time: 75 ms\n",
    "- time between images : 12 ms\n",
    "- number of images in each reference wing: 100"
   ]
  },
  {
   "cell_type": "code",
   "execution_count": 1,
   "metadata": {},
   "outputs": [],
   "source": [
    "import pandas as pd\n",
    "import numpy as np\n",
    "import matplotlib.pyplot as plt\n",
    "from scipy.optimize import curve_fit\n",
    "from uncertainties import ufloat, unumpy\n",
    "import scipy.stats\n",
    "import os\n",
    "import math\n",
    "from numpy import random\n",
    "from scipy.stats import poisson"
   ]
  },
  {
   "cell_type": "markdown",
   "metadata": {},
   "source": [
    "In this dataset we did a scan of the sodium MOT dynamics, with and without potassium"
   ]
  },
  {
   "cell_type": "code",
   "execution_count": 2,
   "metadata": {},
   "outputs": [],
   "source": [
    "#Github_folder =R\"C:\\Users\\Rohit Prasad Bhatt\"\n",
    "#Github_folder =R\"C:\\Users\\Jan\"\n",
    "Github_folder =R\"C:\\Users\\Lilo\"\n",
    "#Github_folder= \"/Users/fredjendrzejewski\"\n",
    "PATH_raw_wK = os.path.join(Github_folder, \"Documents/GitHub/StocDyn_fig_data/data/Sep24_Scan_0001_use_K=True.csv\")\n",
    "PATH_raw_woK = os.path.join(Github_folder, \"Documents/GitHub/StocDyn_fig_data/data/Sep24_Scan_0001_use_K=False.csv\")\n",
    "PATH_fig = os.path.join(Github_folder, \"Documents/GitHub/StocDyn_fig_data/figures\")"
   ]
  },
  {
   "cell_type": "markdown",
   "metadata": {},
   "source": [
    "#### Reshaping the raw data properly"
   ]
  },
  {
   "cell_type": "code",
   "execution_count": 3,
   "metadata": {},
   "outputs": [],
   "source": [
    "def analyze(file_path, Cam_EXPOT):\n",
    "    Counts=pd.read_csv(file_path,  encoding='UTF-8')\n",
    "    Split_Counts=np.array_split(Counts['Counts'],len(Counts['Run_number'].unique()))\n",
    "    Split_Counts_array=np.array(Split_Counts)\n",
    "    Nruns, Nimg = Split_Counts_array.shape\n",
    "    atom_images = np.size(Split_Counts_array[1])\n",
    "    time_between_atom_images = 12e-3\n",
    "    time = np.arange(atom_images)*(time_between_atom_images + Cam_EXPOT)\n",
    "    return time, Nruns, Nimg, Split_Counts_array;"
   ]
  },
  {
   "cell_type": "code",
   "execution_count": 4,
   "metadata": {},
   "outputs": [],
   "source": [
    "time_raw_wK, Nruns_wK, Nimg_wK, Split_Counts_array_raw_wK = analyze(PATH_raw_wK, Cam_EXPOT=75e-3)\n",
    "time_raw_woK, Nruns_woK, Nimg_woK, Split_Counts_array_raw_woK = analyze(PATH_raw_woK, Cam_EXPOT=75e-3)"
   ]
  },
  {
   "cell_type": "markdown",
   "metadata": {},
   "source": [
    "## Plotting the histogram to extract calibration factor\n",
    "we plot all the data in a histogram, to extract the calibration factor (the distance between consecutive peaks) which is needed for the digitization of the data"
   ]
  },
  {
   "cell_type": "code",
   "execution_count": 5,
   "metadata": {},
   "outputs": [],
   "source": [
    "allcounts_offsetremoved_wK=(Split_Counts_array_raw_wK[:,100:300])+0 # make quick deepcopy\n",
    "offset_wK=np.mean(Split_Counts_array_raw_wK[:,2:89], axis=1) # calculate offset from first reference wing\n",
    "allcounts_offsetremoved_wK=allcounts_offsetremoved_wK-offset_wK[:,None]\n",
    "allcounts_offsetremoved_wK=allcounts_offsetremoved_wK.flatten()\n",
    "\n",
    "allcounts_offsetremoved_woK=(Split_Counts_array_raw_woK[:,100:300])+0 # make quick deepcopy\n",
    "offset_woK=np.mean(Split_Counts_array_raw_woK[:,2:89], axis=1) # calculate offset from first reference wing\n",
    "allcounts_offsetremoved_woK=allcounts_offsetremoved_woK-offset_woK[:,None]\n",
    "allcounts_offsetremoved_woK=allcounts_offsetremoved_woK.flatten()\n",
    "\n",
    "allcounts_offsetremoved=np.append(allcounts_offsetremoved_woK,allcounts_offsetremoved_wK)"
   ]
  },
  {
   "cell_type": "code",
   "execution_count": 6,
   "metadata": {},
   "outputs": [],
   "source": [
    "bins=np.linspace(-1e4,2e4, 200)\n",
    "y, bins = np.histogram(allcounts_offsetremoved, bins=bins)\n",
    "binscenters = np.array([0.5 * (bins[i] + bins[i+1]) for i in range(len(bins)-1)])"
   ]
  },
  {
   "cell_type": "code",
   "execution_count": 7,
   "metadata": {},
   "outputs": [],
   "source": [
    "def gauss(x, mu, sigma, A):\n",
    "    return A*np.exp(-(x-mu)**2/(2*sigma**2))"
   ]
  },
  {
   "cell_type": "code",
   "execution_count": 8,
   "metadata": {},
   "outputs": [],
   "source": [
    "def Multimodal(x,mu1,sigma1,A1,mu2,sigma2,A2,mu3,sigma3,A3):\n",
    "    return gauss(x,mu1,sigma1,A1)+gauss(x,mu2,sigma2,A2)+gauss(x,mu3,sigma3,A3)"
   ]
  },
  {
   "cell_type": "code",
   "execution_count": 9,
   "metadata": {},
   "outputs": [],
   "source": [
    "expected=(0,1e3,5000,3e3,3e3,5000,6e3,4e3,1500)\n",
    "params,cov=curve_fit(Multimodal,binscenters,y,expected,absolute_sigma=True)#, bounds=([-1e3,0.1e3,150,6e3,0.1e3,5,2e4,0.1e3,5], [1e3,3e3,22000,12e3,3e3,5000,3e4,3e3,7000]))\n",
    "sigma=np.sqrt(np.diag(cov))"
   ]
  },
  {
   "cell_type": "code",
   "execution_count": 10,
   "metadata": {},
   "outputs": [
    {
     "name": "stdout",
     "output_type": "stream",
     "text": [
      "Mean dist between consecutive peaks 3099.93\n"
     ]
    }
   ],
   "source": [
    "calibration=params[::3]\n",
    "step_sizes=np.diff(calibration)\n",
    "calibration_error=params[1::3]\n",
    "mu_step = np.mean(step_sizes)\n",
    "print('Mean dist between consecutive peaks {:.2f}'.format(mu_step))"
   ]
  },
  {
   "cell_type": "code",
   "execution_count": 11,
   "metadata": {},
   "outputs": [
    {
     "data": {
      "image/png": "[encoded data removed]",
      "text/plain": [
       "<Figure size 324x360 with 1 Axes>"
      ]
     },
     "metadata": {
      "needs_background": "light"
     },
     "output_type": "display_data"
    }
   ],
   "source": [
    "fig2 = plt.figure(figsize=(4.5,5)) \n",
    "ax2 = fig2.add_subplot(1, 1, 1)\n",
    "#fig2.suptitle('step sizes: ' + str(step_sizes))\n",
    "ax2.plot((bins-params[0]),Multimodal(bins,*params),color='black',lw=1,label='model');\n",
    "ax2.hist((allcounts_offsetremoved-params[0]),color='orange', bins=bins, label='data')\n",
    "for ii in range(6):\n",
    "    ax2.axvline(ii*mu_step, color='black', ls='-', lw=0.5)\n",
    "#ax2.legend()\n",
    "ax2.set_xlim(-5000,15000)\n",
    "ax2.set_xlabel(\"Counts\")\n",
    "ax2.set_ylabel(\"Occurances\")\n",
    "fig2.tight_layout()\n",
    "fig2.subplots_adjust(top=0.9);\n",
    "my_file = 'Na_AccurateAtomCounting_hist.pdf'\n",
    "#fig2.savefig(os.path.join(PATH_fig, my_file)) "
   ]
  },
  {
   "cell_type": "markdown",
   "metadata": {},
   "source": [
    "## Information for generating digitized data\n",
    "We use __generate_digitized_CSV.ipynb__ for generating the digitized data. The neccesary information is given below."
   ]
  },
  {
   "cell_type": "raw",
   "metadata": {},
   "source": [
    "scan = R\"\\Sep24_Scan_0001\n",
    "ParameterList = [scanparameter(\"use_K=True\", 1, '.-b'),\n",
    "                 scanparameter(\"use_K=False\", 1, '.-r')]"
   ]
  },
  {
   "cell_type": "raw",
   "metadata": {},
   "source": [
    "time_between_atom_images = 12e-3\n",
    "Cam_EXPOT = 75e-3\n",
    "one_atom_signal= 3080.57 #level for one signal = mu_step\n",
    "number_of_images_without_atoms = 100"
   ]
  },
  {
   "cell_type": "markdown",
   "metadata": {},
   "source": [
    "## Loading the digitized data"
   ]
  },
  {
   "cell_type": "code",
   "execution_count": 12,
   "metadata": {},
   "outputs": [],
   "source": [
    "PATH_woK = os.path.join(Github_folder, \"Documents/GitHub/StocDyn_fig_data/data/Sep24_Scan_0001_use_K=False_digitized.csv\")\n",
    "PATH_wK = os.path.join(Github_folder, \"Documents/GitHub/StocDyn_fig_data/data/Sep24_Scan_0001_use_K=True_digitized.csv\")"
   ]
  },
  {
   "cell_type": "code",
   "execution_count": 13,
   "metadata": {},
   "outputs": [],
   "source": [
    "Cam_EXPOT=75e-3\n",
    "time_between_atom_images = 12e-3\n",
    "time_raw, Nruns, Nimg, Split_Counts_array_wo_K = analyze(PATH_woK, Cam_EXPOT)\n",
    "time_raw, Nruns, Nimg, Split_Counts_array_w_K = analyze(PATH_wK, Cam_EXPOT)"
   ]
  },
  {
   "cell_type": "code",
   "execution_count": 14,
   "metadata": {},
   "outputs": [
    {
     "data": {
      "image/png": "[encoded data removed]",
      "text/plain": [
       "<Figure size 504x288 with 1 Axes>"
      ]
     },
     "metadata": {
      "needs_background": "light"
     },
     "output_type": "display_data"
    }
   ],
   "source": [
    "fig = plt.figure(figsize=(7,4)) \n",
    "ax = fig.add_subplot(1, 1, 1)\n",
    "y = Split_Counts_array_wo_K[225]\n",
    "offset=np.mean(y[0:49])\n",
    "ax.plot(np.arange(len(y)),(y-offset), '-', color='orange',lw=4)\n",
    "ax.set_xlabel(\"Image index\")\n",
    "ax.set_ylabel(\"Atom number\")\n",
    "ax.set_xlim(0,400)\n",
    "for ii in range(4):\n",
    "    ax.axhline(ii, color='black', ls='-',lw=0.5)\n",
    "ax.axvline(100, color='black', ls='--',lw=1)\n",
    "ax.axvline(300, color='black', ls='--',lw=1)\n",
    "#ax.axvline(300*(time_between_atom_images + Cam_EXPOT), color='black', ls='--',lw=1)\n",
    "#ax.grid()\n",
    "fig.tight_layout()\n",
    "fig.subplots_adjust(top=0.9);\n",
    "my_file = 'Figure7_A.pdf'\n",
    "fig.savefig(os.path.join(PATH_fig, my_file)) "
   ]
  },
  {
   "cell_type": "code",
   "execution_count": 15,
   "metadata": {},
   "outputs": [],
   "source": [
    "Avg_Counts_wo_K=np.mean(Split_Counts_array_wo_K, axis=0)\n",
    "Avg_Counts_w_K=np.mean(Split_Counts_array_w_K, axis=0)"
   ]
  },
  {
   "cell_type": "code",
   "execution_count": 16,
   "metadata": {},
   "outputs": [],
   "source": [
    "Std_Counts_wo_K=Split_Counts_array_wo_K.std(axis=0)\n",
    "Std_Counts_w_K=Split_Counts_array_w_K.std(axis=0)"
   ]
  },
  {
   "cell_type": "code",
   "execution_count": 17,
   "metadata": {},
   "outputs": [],
   "source": [
    "atom_images = 399\n",
    "time_between_atom_images = 12e-3\n",
    "Cam_EXPOT = 75e-3\n",
    "time = np.arange(atom_images)*(time_between_atom_images + Cam_EXPOT)#"
   ]
  },
  {
   "cell_type": "code",
   "execution_count": 18,
   "metadata": {},
   "outputs": [],
   "source": [
    "def bootstrapping(data, atom_images, Nbootstrap):\n",
    "    Nsamples, Nt = data.shape;\n",
    "    means = np.zeros((Nbootstrap, Nt));\n",
    "    stds = np.zeros((Nbootstrap, Nt));\n",
    "    xbar_l = np.zeros(atom_images);\n",
    "    xbar_u = np.zeros(atom_images);\n",
    "    xstd_l = np.zeros(atom_images);\n",
    "    xstd_u = np.zeros(atom_images);\n",
    "    for ii in np.arange(Nbootstrap):\n",
    "        inds = np.random.randint(Nsamples, size=(Nsamples, Nt));\n",
    "        X = np.take_along_axis(data, inds, axis=0)\n",
    "        means[ii] = X.mean(axis=0)\n",
    "        stds[ii] = X.std(axis=0)\n",
    "    xbar_l, xbar_u = np.percentile(means, [16, 84], axis=0);\n",
    "    xstd_l, xstd_u = np.percentile(stds, [16, 84], axis=0);\n",
    "    return xbar_l, xbar_u, xstd_l, xstd_u"
   ]
  },
  {
   "cell_type": "code",
   "execution_count": 19,
   "metadata": {},
   "outputs": [],
   "source": [
    "xbar_l__wo_K, xbar_u__wo_K, xstd_l__wo_K, xstd_u__wo_K = bootstrapping(Split_Counts_array_wo_K, np.size(Split_Counts_array_wo_K[1]), 1000)\n",
    "xbar_l__w_K, xbar_u__w_K, xstd_l__w_K, xstd_u__w_K = bootstrapping(Split_Counts_array_w_K, np.size(Split_Counts_array_w_K[1]), 1000)"
   ]
  },
  {
   "cell_type": "code",
   "execution_count": 20,
   "metadata": {},
   "outputs": [
    {
     "data": {
      "image/png": "[encoded data removed]",
      "text/plain": [
       "<Figure size 432x288 with 1 Axes>"
      ]
     },
     "metadata": {
      "needs_background": "light"
     },
     "output_type": "display_data"
    }
   ],
   "source": [
    "f, ax = plt.subplots()\n",
    "ax.fill_between(time, xbar_l__wo_K, xbar_u__wo_K,color = 'r', alpha = 0.4, label='without K')\n",
    "ax.fill_between(time, xbar_l__w_K, xbar_u__w_K,color = 'b', alpha = 0.4, label='with K')\n",
    "ax.set_ylabel('average counts')\n",
    "ax.set_xlabel('time [s]')\n",
    "ax.grid()\n",
    "ax.legend()\n",
    "f.tight_layout()\n",
    "f.subplots_adjust(top=0.9);"
   ]
  },
  {
   "cell_type": "markdown",
   "metadata": {},
   "source": [
    "# Count the number of jumps"
   ]
  },
  {
   "cell_type": "code",
   "execution_count": 21,
   "metadata": {},
   "outputs": [
    {
     "data": {
      "image/png": "[encoded data removed]",
      "text/plain": [
       "<Figure size 432x288 with 1 Axes>"
      ]
     },
     "metadata": {
      "needs_background": "light"
     },
     "output_type": "display_data"
    }
   ],
   "source": [
    "f, ax = plt.subplots()\n",
    "ax.plot(np.arange(Nimg), Split_Counts_array_wo_K.T, 'o', color = 'r', alpha = 0.05);\n",
    "ax.plot(np.arange(Nimg), Split_Counts_array_wo_K[1,:], 'k-');"
   ]
  },
  {
   "cell_type": "markdown",
   "metadata": {},
   "source": [
    "now calculate the diffs and see what happens"
   ]
  },
  {
   "cell_type": "code",
   "execution_count": 22,
   "metadata": {},
   "outputs": [],
   "source": [
    "pre_baseline_images = 100\n",
    "diffs_wo_K = np.diff(Split_Counts_array_wo_K[:,pre_baseline_images:atom_images-pre_baseline_images], axis=1)\n",
    "diffs_w_K = np.diff(Split_Counts_array_w_K[:,pre_baseline_images:atom_images-pre_baseline_images], axis=1)"
   ]
  },
  {
   "cell_type": "markdown",
   "metadata": {},
   "source": [
    "## Single atom loads"
   ]
  },
  {
   "cell_type": "code",
   "execution_count": 23,
   "metadata": {},
   "outputs": [
    {
     "data": {
      "image/png": "[encoded data removed]",
      "text/plain": [
       "<Figure size 432x288 with 1 Axes>"
      ]
     },
     "metadata": {
      "needs_background": "light"
     },
     "output_type": "display_data"
    }
   ],
   "source": [
    "single_loaded_wo_K = diffs_wo_K == 1;\n",
    "single_loaded_w_K = diffs_w_K == 1;\n",
    "s_load_wo_K = np.sum(single_loaded_wo_K, axis=1);\n",
    "s_load_w_K = np.sum(single_loaded_w_K, axis=1);\n",
    "f, ax = plt.subplots()\n",
    "ax.hist(s_load_wo_K, color='r', alpha=0.5, bins=np.arange(0,np.max(s_load_wo_K)+2), label='without K')\n",
    "ax.hist(s_load_w_K, color='b', alpha=0.5, bins=np.arange(0,np.max(s_load_w_K)+2), label='with K')\n",
    "ax.legend()\n",
    "ax.set_ylabel('occurences')\n",
    "ax.set_xlabel('$N_{jump}$');"
   ]
  },
  {
   "cell_type": "markdown",
   "metadata": {},
   "source": [
    "do bootstrapping to calc mean and std of it"
   ]
  },
  {
   "cell_type": "code",
   "execution_count": 24,
   "metadata": {},
   "outputs": [],
   "source": [
    "def bootstrapping_jumps(data, Nbootstrap):\n",
    "    xbar = np.zeros(Nbootstrap)\n",
    "    xstd = np.zeros(Nbootstrap)\n",
    "    for i in range(Nbootstrap):\n",
    "        sample = data[np.random.randint(len(data), size=len(data))]\n",
    "        xbar[i] = np.mean(sample)\n",
    "        xstd[i] = np.std(sample)\n",
    "    xbar_b=ufloat(np.mean(xbar), np.std(xbar))\n",
    "    xstd_b=ufloat(xstd.mean(), xstd.std())\n",
    "    return xbar, xbar_b, xstd, xstd_b"
   ]
  },
  {
   "cell_type": "code",
   "execution_count": 25,
   "metadata": {},
   "outputs": [
    {
     "name": "stdout",
     "output_type": "stream",
     "text": [
      "mean N_load wo_K:  1.76+/-0.05\n",
      "mean N_load w_K:  1.73+/-0.05\n",
      "mean p_load wo_K:  0.888+/-0.027\n",
      "mean p_load w_K:  0.873+/-0.027\n"
     ]
    }
   ],
   "source": [
    "xbar_wo_K, xbar_b_wo_K, xstd_wo_K, xstd_b_wo_K = bootstrapping_jumps(s_load_wo_K, 10000)\n",
    "xbar_w_K, xbar_b_w_K, xstd_w_K, xstd_b_w_K  = bootstrapping_jumps(s_load_w_K, 10000)\n",
    "print('mean N_load wo_K: ', str(xbar_b_wo_K))\n",
    "print('mean N_load w_K: ', str(xbar_b_w_K))\n",
    "print('mean p_load wo_K: ', str(xbar_b_wo_K/(diffs_wo_K.shape[1])*100))\n",
    "print('mean p_load w_K: ', str(xbar_b_w_K/(diffs_wo_K.shape[1])*100))"
   ]
  },
  {
   "cell_type": "code",
   "execution_count": 26,
   "metadata": {},
   "outputs": [
    {
     "data": {
      "image/png": "[encoded data removed]",
      "text/plain": [
       "<Figure size 432x288 with 1 Axes>"
      ]
     },
     "metadata": {
      "needs_background": "light"
     },
     "output_type": "display_data"
    }
   ],
   "source": [
    "f, ax = plt.subplots()\n",
    "ax.hist(xbar_wo_K, color='r', alpha=0.5, bins='auto', label='a_little_K')\n",
    "ax.hist(xbar_w_K, color='b', alpha=0.5, bins='auto', label='a_lot_K')\n",
    "ax.legend()\n",
    "ax.set_ylabel('occurences')\n",
    "ax.set_xlabel('$<N_{load}>$');"
   ]
  },
  {
   "cell_type": "markdown",
   "metadata": {},
   "source": [
    "now we can also translate this into a likelihood of jumping"
   ]
  },
  {
   "cell_type": "code",
   "execution_count": 27,
   "metadata": {},
   "outputs": [
    {
     "data": {
      "image/png": "[encoded data removed]",
      "text/plain": [
       "<Figure size 432x288 with 1 Axes>"
      ]
     },
     "metadata": {
      "needs_background": "light"
     },
     "output_type": "display_data"
    }
   ],
   "source": [
    "f, ax = plt.subplots()\n",
    "ax.hist(xbar_wo_K/(diffs_wo_K.shape[1])*100, color='r', alpha=0.5, bins='auto', label='without K')\n",
    "ax.hist(xbar_w_K/(diffs_w_K.shape[1])*100, color='b', alpha=0.5, bins='auto', label='with K')\n",
    "ax.legend()\n",
    "ax.set_ylabel('occurences')\n",
    "ax.set_xlabel('$p_{load}$(%)');"
   ]
  },
  {
   "cell_type": "code",
   "execution_count": 28,
   "metadata": {},
   "outputs": [
    {
     "data": {
      "image/png": "[encoded data removed]",
      "text/plain": [
       "<Figure size 432x288 with 1 Axes>"
      ]
     },
     "metadata": {
      "needs_background": "light"
     },
     "output_type": "display_data"
    }
   ],
   "source": [
    "single_lost_wo_K = diffs_wo_K == -1;\n",
    "single_lost_w_K = diffs_w_K == -1;\n",
    "s_loss_wo_K = np.sum(single_lost_wo_K, axis=1);\n",
    "s_loss_w_K = np.sum(single_lost_w_K, axis=1);\n",
    "f, ax = plt.subplots()\n",
    "ax.hist(s_loss_wo_K, color='r', alpha=0.5, bins=np.arange(0,np.max(s_load_wo_K)+2), label='without K')\n",
    "ax.hist(s_loss_w_K, color='b', alpha=0.5, bins=np.arange(0,np.max(s_load_w_K)+2), label='with K')\n",
    "ax.legend()\n",
    "ax.set_ylabel('occurences')\n",
    "ax.set_xlabel('$N_{loss}$');"
   ]
  },
  {
   "cell_type": "code",
   "execution_count": 29,
   "metadata": {},
   "outputs": [
    {
     "name": "stdout",
     "output_type": "stream",
     "text": [
      "mean N_loss wo_K:  1.06+/-0.04\n",
      "mean N_loss w_K:  1.03+/-0.04\n"
     ]
    }
   ],
   "source": [
    "N_loss_xbar_wo_K, N_loss_xbar_b_wo_K, N_loss_xstd_wo_K, N_loss_xstd_b_wo_K = bootstrapping_jumps(s_loss_wo_K, 10000)\n",
    "N_loss_xbar_w_K, N_loss_xbar_b_w_K, N_loss_xstd_w_K, N_loss_xstd_b_w_K  = bootstrapping_jumps(s_loss_w_K, 10000)\n",
    "print('mean N_loss wo_K: ', str(N_loss_xbar_b_wo_K))\n",
    "print('mean N_loss w_K: ', str(N_loss_xbar_b_w_K))"
   ]
  },
  {
   "cell_type": "markdown",
   "metadata": {},
   "source": [
    "now we can also translate this into a likelihood of loss"
   ]
  },
  {
   "cell_type": "code",
   "execution_count": 30,
   "metadata": {},
   "outputs": [],
   "source": [
    "n_loss_wo_K=np.sum(Split_Counts_array_wo_K[:,pre_baseline_images:atom_images-pre_baseline_images-1], axis=1);\n",
    "n_loss_w_K=np.sum(Split_Counts_array_w_K[:,pre_baseline_images:atom_images-pre_baseline_images-1], axis=1);\n",
    "single_p_loss_wo_K=s_loss_wo_K[n_loss_wo_K>0]/n_loss_wo_K[n_loss_wo_K>0]\n",
    "single_p_loss_w_K=s_loss_w_K[n_loss_w_K>0]/n_loss_w_K[n_loss_w_K>0]"
   ]
  },
  {
   "cell_type": "code",
   "execution_count": 31,
   "metadata": {},
   "outputs": [
    {
     "name": "stdout",
     "output_type": "stream",
     "text": [
      "mean p_loss wo_K:  2.06+/-0.17\n",
      "mean p_loss w_K:  1.89+/-0.14\n"
     ]
    }
   ],
   "source": [
    "p_loss_xbar_wo_K, p_loss_xbar_b_wo_K, p_loss_xstd_wo_K, p_loss_xstd_b_wo_K = bootstrapping_jumps(single_p_loss_wo_K, 10000)\n",
    "p_loss_xbar_w_K, p_loss_xbar_b_w_K, p_loss_xstd_w_K, p_loss_xstd_b_w_K  = bootstrapping_jumps(single_p_loss_w_K, 10000)\n",
    "print('mean p_loss wo_K: ', str(p_loss_xbar_b_wo_K*100))\n",
    "print('mean p_loss w_K: ', str(p_loss_xbar_b_w_K*100))"
   ]
  },
  {
   "cell_type": "code",
   "execution_count": 32,
   "metadata": {},
   "outputs": [
    {
     "data": {
      "image/png": "[encoded data removed]",
      "text/plain": [
       "<Figure size 432x288 with 1 Axes>"
      ]
     },
     "metadata": {
      "needs_background": "light"
     },
     "output_type": "display_data"
    }
   ],
   "source": [
    "f, ax = plt.subplots()\n",
    "f.suptitle('mean p_loss wo_K:{:.2ue} \\n mean p_loss w_K: {:.2ue}'.format(p_loss_xbar_b_wo_K,p_loss_xbar_b_w_K))\n",
    "ax.hist(p_loss_xbar_wo_K*100, color='r', alpha=0.5, bins='auto', label='without K')\n",
    "ax.hist(p_loss_xbar_w_K*100, color='b', alpha=0.5, bins='auto', label='with K')\n",
    "ax.set_ylabel('occurences')\n",
    "ax.set_xlabel('$p_{loss}$(%)')\n",
    "ax.legend();"
   ]
  },
  {
   "cell_type": "markdown",
   "metadata": {},
   "source": [
    "### Just counting multi-atom events"
   ]
  },
  {
   "cell_type": "code",
   "execution_count": 33,
   "metadata": {},
   "outputs": [
    {
     "data": {
      "text/plain": [
       "(array([-3., -2., -1.,  0.,  1.,  2.]),\n",
       " array([    1,    16,   514, 97567,   864,    38], dtype=int64))"
      ]
     },
     "execution_count": 33,
     "metadata": {},
     "output_type": "execute_result"
    }
   ],
   "source": [
    "val, occ = np.unique(diffs_w_K, return_counts=True)\n",
    "val, occ"
   ]
  },
  {
   "cell_type": "code",
   "execution_count": 34,
   "metadata": {},
   "outputs": [
    {
     "data": {
      "text/plain": [
       "(55, 1433)"
      ]
     },
     "execution_count": 34,
     "metadata": {},
     "output_type": "execute_result"
    }
   ],
   "source": [
    "multi_select=(val!=-1)&(val!=0)&(val!=1)\n",
    "multi_event=np.sum(occ[multi_select])\n",
    "tot_event=np.sum(occ[(val!=0)])\n",
    "multi_event,tot_event"
   ]
  },
  {
   "cell_type": "markdown",
   "metadata": {},
   "source": [
    "### Detection fidelity from reference images"
   ]
  },
  {
   "cell_type": "code",
   "execution_count": 35,
   "metadata": {},
   "outputs": [
    {
     "data": {
      "text/plain": [
       "(array([-1., -0.,  1.,  2.,  3.]),\n",
       " array([   67, 99216,   146,    43,    28], dtype=int64))"
      ]
     },
     "execution_count": 35,
     "metadata": {},
     "output_type": "execute_result"
    }
   ],
   "source": [
    "ref_inds=np.concatenate((np.arange(100),np.arange(300,399)))\n",
    "ref_imgs = Split_Counts_array_w_K[:,ref_inds]\n",
    "np.unique(ref_imgs, return_counts=True)"
   ]
  },
  {
   "cell_type": "code",
   "execution_count": 36,
   "metadata": {},
   "outputs": [
    {
     "data": {
      "text/plain": [
       "0.997145728643216"
      ]
     },
     "execution_count": 36,
     "metadata": {},
     "output_type": "execute_result"
    }
   ],
   "source": [
    "1-(np.sum(ref_imgs!=0)/ref_imgs.size)"
   ]
  },
  {
   "cell_type": "markdown",
   "metadata": {},
   "source": [
    "### Poisson distribution"
   ]
  },
  {
   "cell_type": "code",
   "execution_count": 37,
   "metadata": {},
   "outputs": [],
   "source": [
    "def fit_function(k, lamb):\n",
    "    '''poisson function, parameter lamb is the fit parameter'''\n",
    "    return poisson.pmf(k, lamb)\n",
    "x_plot = np.arange(0, 15)"
   ]
  },
  {
   "cell_type": "markdown",
   "metadata": {},
   "source": [
    "## Ploting loads with and without K"
   ]
  },
  {
   "cell_type": "code",
   "execution_count": 38,
   "metadata": {},
   "outputs": [
    {
     "data": {
      "image/png": "[encoded data removed]",
      "text/plain": [
       "<Figure size 360x360 with 1 Axes>"
      ]
     },
     "metadata": {
      "needs_background": "light"
     },
     "output_type": "display_data"
    }
   ],
   "source": [
    "fig2 = plt.figure(figsize=(5,5)) \n",
    "ax2 = fig2.add_subplot(1, 1, 1)\n",
    "ax2.hist(s_load_wo_K, alpha=1.0, bins=np.arange(15) - 0.5, color='gray')\n",
    "ax2.hist(s_load_w_K, alpha=0.6, bins=np.arange(15) - 0.5, color='tomato')\n",
    "ax2.plot(x_plot,len(s_load_w_K)*fit_function(x_plot, xbar_b_w_K.n),marker='o', linestyle='--',color='maroon',label='Fit result')\n",
    "ax2.set_xlabel(\"# Jumps\")\n",
    "ax2.set_ylabel(\"Occurances\")\n",
    "ax2.set_xlim(0,7)\n",
    "ax2.set_ylim(0, 155)\n",
    "start, end = ax2.get_ylim()\n",
    "ax2.yaxis.set_ticks(np.arange(start, end, 50))\n",
    "fig2.tight_layout()\n",
    "fig2.subplots_adjust(top=0.9);\n",
    "my_file = 'Figure7_B1.pdf'\n",
    "fig2.savefig(os.path.join(PATH_fig, my_file)) "
   ]
  },
  {
   "cell_type": "markdown",
   "metadata": {},
   "source": [
    "## Ploting loss with and without K"
   ]
  },
  {
   "cell_type": "code",
   "execution_count": 39,
   "metadata": {},
   "outputs": [
    {
     "data": {
      "image/png": "[encoded data removed]",
      "text/plain": [
       "<Figure size 360x360 with 1 Axes>"
      ]
     },
     "metadata": {
      "needs_background": "light"
     },
     "output_type": "display_data"
    }
   ],
   "source": [
    "fig2 = plt.figure(figsize=(5,5)) \n",
    "ax2 = fig2.add_subplot(1, 1, 1)\n",
    "ax2.hist(-s_loss_wo_K, alpha=1.0, bins=np.arange(15) - 13.5, color='gray')\n",
    "ax2.hist(-s_loss_w_K, alpha=0.6, bins=np.arange(15) - 13.5, color='tomato')\n",
    "ax2.plot(-x_plot,len(s_loss_w_K)*fit_function(x_plot, N_loss_xbar_b_w_K.n),marker='o', linestyle='--',color='maroon',label='Fit result')\n",
    "ax2.set_xlabel(\"# Jumps\")\n",
    "ax2.set_ylabel(\"Occurances\")\n",
    "ax2.set_xlim(-7,0)\n",
    "ax2.set_ylim(0, 190)\n",
    "start, end = ax2.get_ylim()\n",
    "ax2.yaxis.set_ticks(np.arange(start, end, 50))\n",
    "fig2.tight_layout()\n",
    "fig2.subplots_adjust(top=0.9);\n",
    "my_file = 'Figure7_B2.pdf'\n",
    "fig2.savefig(os.path.join(PATH_fig, my_file)) "
   ]
  },
  {
   "cell_type": "code",
   "execution_count": null,
   "metadata": {},
   "outputs": [],
   "source": []
  },
  {
   "cell_type": "code",
   "execution_count": null,
   "metadata": {},
   "outputs": [],
   "source": []
  }
 ],
 "metadata": {
  "kernelspec": {
   "display_name": "Python 3",
   "language": "python",
   "name": "python3"
  },
  "language_info": {
   "codemirror_mode": {
    "name": "ipython",
    "version": 3
   },
   "file_extension": ".py",
   "mimetype": "text/x-python",
   "name": "python",
   "nbconvert_exporter": "python",
   "pygments_lexer": "ipython3",
   "version": "3.7.6"
  }
 },
 "nbformat": 4,
 "nbformat_minor": 4
}
