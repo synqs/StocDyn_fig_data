{
 "cells": [
  {
   "cell_type": "markdown",
   "metadata": {},
   "source": [
    "# Digitizing the raw data"
   ]
  },
  {
   "cell_type": "code",
   "execution_count": null,
   "metadata": {},
   "outputs": [],
   "source": [
    "import pandas as pd\n",
    "import numpy as np\n",
    "import matplotlib.pyplot as plt\n",
    "import math\n",
    "import pandas as pd\n",
    "import os\n",
    "from datetime import datetime\n",
    "import time as lime"
   ]
  },
  {
   "cell_type": "markdown",
   "metadata": {},
   "source": [
    "Specifiying paths for loading data set. Set colors and scan flags in the parameterList"
   ]
  },
  {
   "cell_type": "code",
   "execution_count": null,
   "metadata": {},
   "outputs": [],
   "source": [
    "#Github_folder =R\"C:\\Users\\Rohit Prasad Bhatt\"\n",
    "#Github_folder =R\"C:\\Users\\Jan\"\n",
    "Github_folder =R\"C:\\Users\\Lilo\"\n",
    "#Github_folder= \"/Users/fredjendrzejewski\"\n",
    "\n",
    "class scanparameter:\n",
    "    def __init__(self, flag, path, color):\n",
    "        self.flag = flag\n",
    "        self.path  = os.path.join(Github_folder, \"Documents/GitHub/sopa_rsi/analysis_data/Sodium_Accurate_Atom_Counting/Oct07_Scan_0000_Cam_EXPOT=0.2\")\n",
    "        self.color = color\n",
    "\n",
    "ParameterList = [scanparameter(\"Cam_EXPOT=0.2\", 1, '.-r')]\n",
    "            #scanparameter(\"KtwoDInt=1.4\", 1, '.-r'),\n",
    "              #scanparameter(\"KtwoDInt=2.3\", 1, '.-b'),\n",
    "              #scanparameter(\"use_K=True\", 1, '.-b'),\n",
    "              #scanparameter(\"use_K=False\", 1, '.-r')]\n",
    "now = datetime.now()"
   ]
  },
  {
   "cell_type": "markdown",
   "metadata": {},
   "source": [
    "set scan parameters"
   ]
  },
  {
   "cell_type": "code",
   "execution_count": null,
   "metadata": {},
   "outputs": [],
   "source": [
    "time_between_atom_images = 12e-3\n",
    "Cam_EXPOT = 75e-3\n",
    "one_atom_signal= 3099.93 #level for one signal = mu_step\n",
    "number_of_images_without_atoms = 100"
   ]
  },
  {
   "cell_type": "markdown",
   "metadata": {},
   "source": [
    "function for digitizing the data"
   ]
  },
  {
   "cell_type": "code",
   "execution_count": null,
   "metadata": {},
   "outputs": [],
   "source": [
    "def digitizing (data, one_atom_signal, number_of_images_without_atoms, time_between_atom_images, Cam_EXPOT):\n",
    "    'data is a 2d array whose rows are individual runs'\n",
    "    'one atom signal is the expected jump step from histograms'\n",
    "    digitized_data = data+0 #create a deepcopy \n",
    "    N= data.shape[0] #number of runs \n",
    "    atom_images = data.shape[1] #number of images in each run \n",
    "    time = np.arange(atom_images)*(time_between_atom_images+Cam_EXPOT)\n",
    "    for i in range(N):\n",
    "        # we set the weird jumps to zero\n",
    "        data[i][0]=0\n",
    "        data[i][100]=0\n",
    "        data[i][101]=0\n",
    "        \n",
    "        #first digitization routine: \n",
    "        #Caculate offset from first half of the first reference set\n",
    "        #Digitize data by removing offset and dividing and rounding the one_atom_signal\n",
    "        offset=np.mean(data[i][0:int(number_of_images_without_atoms/2-1)])\n",
    "        digitized_data[i][:]=np.round((data[i][:]-offset)/one_atom_signal,0)\n",
    "        \n",
    "        previous = None\n",
    "        count = 1\n",
    "        counts = np.array([])\n",
    "        elements = np.array([])\n",
    "        startingindex = np.array([])\n",
    "        \n",
    "        for image in range(len(digitized_data[i])-2):\n",
    "            n=image+1        \n",
    "            element = digitized_data[i][n]\n",
    "            if element == previous :\n",
    "                count += 1\n",
    "            else :\n",
    "                if previous != None:\n",
    "                    counts = np.append(counts,np.array([count]),axis=0)\n",
    "                    elements = np.append(elements,np.array([digitized_data[i][n-1]]),axis=0)\n",
    "                    startingindex = np.append(startingindex,np.array([n]),axis=0)\n",
    "                    if count <= 3:\n",
    "                        for a in range(count):\n",
    "                            digitized_data[i][n-count+a] = digitized_data[i][n-count-1]\n",
    "                previous = element\n",
    "                count = 1\n",
    "    return digitized_data, time, atom_images\n",
    "    "
   ]
  },
  {
   "cell_type": "markdown",
   "metadata": {},
   "source": [
    "lets actually digitize the data"
   ]
  },
  {
   "cell_type": "code",
   "execution_count": null,
   "metadata": {},
   "outputs": [],
   "source": [
    "n = sum(1 for p in ParameterList)\n",
    "for p in ParameterList:\n",
    "    #savingpath = os.path.join(Dropbox_folder + Dropbox_path + now.strftime(\"\\%Y-%m-%d\") + scan + \"_of_\" + day.split(\"20\",1)[1] + \"_\" + p.flag +'_digitized_on' + now.strftime(\"_%Y-%m-%d\") +'.csv')\n",
    "    #setattr(p, 'savepath', savingpath)\n",
    "    #plottingpath = os.path.join(Dropbox_folder + Dropbox_path + now.strftime(\"\\%Y-%m-%d\") + \"\\\\test\" + scan + \"_of_\" + day.split(\"20\",1)[1] + \"_\" + p.flag +'_digitized_on' + now.strftime(\"_%Y-%m-%d\") +'.png')\n",
    "    #plottingpath = os.path.join(Dropbox_folder + Dropbox_path + now.strftime(\"\\%Y-%m-%d\") + scan + \"_of_\" + day.split(\"20\",1)[1] + \"_\" + p.flag +'_digitized_on' + now.strftime(\"_%Y-%m-%d\") +'.pdf')\n",
    "    #setattr(p, 'plotpath', plottingpath)\n",
    "    #print(savingpath)\n",
    "    #print(p.path)\n",
    "    Counts = pd.read_csv(p.path+ '.csv',  encoding='UTF-8')\n",
    "    N = len(Counts['Run_number'].unique())\n",
    "    setattr(p, 'N', N)\n",
    "    Split_Counts = np.array_split(Counts['Counts'],p.N)\n",
    "    setattr(p, 'Counts', np.array(Split_Counts))\n",
    "    \n",
    "    \n",
    "    Counts_digitized, time, atom_images = digitizing(p.Counts, one_atom_signal, number_of_images_without_atoms, time_between_atom_images, Cam_EXPOT)\n",
    "    setattr(p, 'digitizedCounts', Counts_digitized)\n",
    "    setattr(p, 'time', time)\n",
    "    setattr(p, 'atom_images', atom_images)\n",
    "    \n",
    "    runnumbers = np.array([])\n",
    "    for i in range(p.N):\n",
    "        runnumbers = np.append(runnumbers,np.tile(np.array([i]),p.atom_images))\n",
    "        setattr(p, 'runnumber',runnumbers)\n",
    "    \n"
   ]
  },
  {
   "cell_type": "code",
   "execution_count": null,
   "metadata": {
    "scrolled": true
   },
   "outputs": [],
   "source": [
    "for p in ParameterList:\n",
    "    cols = 3\n",
    "    rows = int(math.ceil(p.N/cols))\n",
    "    fig1 = plt.figure(figsize=(25,800))\n",
    "    #plt.title('S'+ scan.split(\"S\",1)[1] + ' of ' + day.split(\"20\",1)[1] + '   ' + p.flag, size=30)\n",
    "    for n in range(p.N):\n",
    "        ax = fig1.add_subplot(rows, cols, n+1)\n",
    "        y = p.Counts[n]\n",
    "        y2 = p.digitizedCounts[n]\n",
    "        offset=np.mean(y[0:49])\n",
    "        ax.set_ylim([-1,4])\n",
    "        #ax.set_xlim([20,80])\n",
    "        ax.plot(np.arange(y.size),y2, '.-k')\n",
    "        ax.plot(np.arange(y.size),(y-offset)/one_atom_signal, p.color)\n",
    "        ax.set_xlabel(\"Time [s]\")\n",
    "        ax.set_ylabel(\"Counts\")\n",
    "        ax.grid()\n",
    "    fig1.tight_layout()\n",
    "    fig1.subplots_adjust(top=0.9);\n",
    "    \n",
    "    #plt.savefig('graph'+str('{:.0f}'.format(lime.time()-1608118962))+'.pdf', format='pdf')"
   ]
  },
  {
   "cell_type": "markdown",
   "metadata": {},
   "source": [
    "run next cell only if you want to save the data!"
   ]
  },
  {
   "cell_type": "code",
   "execution_count": null,
   "metadata": {},
   "outputs": [],
   "source": [
    "for p in ParameterList:\n",
    "    savedata=pd.DataFrame({'Run_number':p.runnumber, 'Counts':p.digitizedCounts.flatten()})\n",
    "    savedata.to_csv('digitized.csv', index=False)"
   ]
  },
  {
   "cell_type": "code",
   "execution_count": null,
   "metadata": {},
   "outputs": [],
   "source": []
  }
 ],
 "metadata": {
  "kernelspec": {
   "display_name": "Python 3",
   "language": "python",
   "name": "python3"
  },
  "language_info": {
   "codemirror_mode": {
    "name": "ipython",
    "version": 3
   },
   "file_extension": ".py",
   "mimetype": "text/x-python",
   "name": "python",
   "nbconvert_exporter": "python",
   "pygments_lexer": "ipython3",
   "version": "3.7.6"
  }
 },
 "nbformat": 4,
 "nbformat_minor": 4
}
